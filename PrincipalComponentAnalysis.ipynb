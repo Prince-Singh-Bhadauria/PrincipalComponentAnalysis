{
 "cells": [
  {
   "cell_type": "code",
   "execution_count": 8,
   "id": "16ea2690",
   "metadata": {},
   "outputs": [],
   "source": [
    "import numpy as np\n",
    "import pandas as pd\n",
    "import matplotlib.pyplot as plt\n",
    "import seaborn as sns"
   ]
  },
  {
   "cell_type": "code",
   "execution_count": 34,
   "id": "ccc4afd6",
   "metadata": {},
   "outputs": [
    {
     "data": {
      "text/html": [
       "<div>\n",
       "<style scoped>\n",
       "    .dataframe tbody tr th:only-of-type {\n",
       "        vertical-align: middle;\n",
       "    }\n",
       "\n",
       "    .dataframe tbody tr th {\n",
       "        vertical-align: top;\n",
       "    }\n",
       "\n",
       "    .dataframe thead th {\n",
       "        text-align: right;\n",
       "    }\n",
       "</style>\n",
       "<table border=\"1\" class=\"dataframe\">\n",
       "  <thead>\n",
       "    <tr style=\"text-align: right;\">\n",
       "      <th></th>\n",
       "      <th>Series</th>\n",
       "      <th>Open</th>\n",
       "      <th>High</th>\n",
       "      <th>Low</th>\n",
       "      <th>PrevClose</th>\n",
       "      <th>Ltp</th>\n",
       "      <th>Close</th>\n",
       "      <th>Wap</th>\n",
       "      <th>Wh52</th>\n",
       "      <th>Wl52</th>\n",
       "      <th>Volume</th>\n",
       "      <th>Value</th>\n",
       "      <th>Notrades</th>\n",
       "    </tr>\n",
       "  </thead>\n",
       "  <tbody>\n",
       "    <tr>\n",
       "      <th>Date</th>\n",
       "      <td>series</td>\n",
       "      <td>OPEN</td>\n",
       "      <td>HIGH</td>\n",
       "      <td>LOW</td>\n",
       "      <td>PREV. CLOSE</td>\n",
       "      <td>ltp</td>\n",
       "      <td>close</td>\n",
       "      <td>vwap</td>\n",
       "      <td>52W H</td>\n",
       "      <td>52W L</td>\n",
       "      <td>VOLUME</td>\n",
       "      <td>VALUE</td>\n",
       "      <td>No of trades</td>\n",
       "    </tr>\n",
       "    <tr>\n",
       "      <th>26-Mar-2021</th>\n",
       "      <td>EQ</td>\n",
       "      <td>404.80</td>\n",
       "      <td>407.70</td>\n",
       "      <td>400.65</td>\n",
       "      <td>399.65</td>\n",
       "      <td>405.80</td>\n",
       "      <td>403.90</td>\n",
       "      <td>403.72</td>\n",
       "      <td>467.45</td>\n",
       "      <td>165.00</td>\n",
       "      <td>9033369</td>\n",
       "      <td>3,646,930,755.85</td>\n",
       "      <td>86480</td>\n",
       "    </tr>\n",
       "    <tr>\n",
       "      <th>25-Mar-2021</th>\n",
       "      <td>EQ</td>\n",
       "      <td>410.70</td>\n",
       "      <td>411.70</td>\n",
       "      <td>397.75</td>\n",
       "      <td>411.00</td>\n",
       "      <td>400.00</td>\n",
       "      <td>399.65</td>\n",
       "      <td>402.63</td>\n",
       "      <td>467.45</td>\n",
       "      <td>165.00</td>\n",
       "      <td>12737129</td>\n",
       "      <td>5,128,332,834.10</td>\n",
       "      <td>131050</td>\n",
       "    </tr>\n",
       "    <tr>\n",
       "      <th>24-Mar-2021</th>\n",
       "      <td>EQ</td>\n",
       "      <td>411.35</td>\n",
       "      <td>415.45</td>\n",
       "      <td>409.20</td>\n",
       "      <td>415.50</td>\n",
       "      <td>410.80</td>\n",
       "      <td>411.00</td>\n",
       "      <td>411.84</td>\n",
       "      <td>467.45</td>\n",
       "      <td>165.00</td>\n",
       "      <td>5140347</td>\n",
       "      <td>2,117,024,375.25</td>\n",
       "      <td>58920</td>\n",
       "    </tr>\n",
       "    <tr>\n",
       "      <th>23-Mar-2021</th>\n",
       "      <td>EQ</td>\n",
       "      <td>417.70</td>\n",
       "      <td>423.40</td>\n",
       "      <td>412.70</td>\n",
       "      <td>414.45</td>\n",
       "      <td>415.25</td>\n",
       "      <td>415.50</td>\n",
       "      <td>416.98</td>\n",
       "      <td>467.45</td>\n",
       "      <td>165.00</td>\n",
       "      <td>11575194</td>\n",
       "      <td>4,826,667,778.95</td>\n",
       "      <td>116986</td>\n",
       "    </tr>\n",
       "  </tbody>\n",
       "</table>\n",
       "</div>"
      ],
      "text/plain": [
       "              Series    Open    High     Low     PrevClose     Ltp   Close  \\\n",
       "Date         series    OPEN    HIGH     LOW   PREV. CLOSE     ltp   close    \n",
       "26-Mar-2021       EQ  404.80  407.70  400.65        399.65  405.80  403.90   \n",
       "25-Mar-2021       EQ  410.70  411.70  397.75        411.00  400.00  399.65   \n",
       "24-Mar-2021       EQ  411.35  415.45  409.20        415.50  410.80  411.00   \n",
       "23-Mar-2021       EQ  417.70  423.40  412.70        414.45  415.25  415.50   \n",
       "\n",
       "                Wap    Wh52    Wl52    Volume             Value       Notrades  \n",
       "Date          vwap   52W H   52W L    VOLUME             VALUE   No of trades   \n",
       "26-Mar-2021  403.72  467.45  165.00   9033369  3,646,930,755.85          86480  \n",
       "25-Mar-2021  402.63  467.45  165.00  12737129  5,128,332,834.10         131050  \n",
       "24-Mar-2021  411.84  467.45  165.00   5140347  2,117,024,375.25          58920  \n",
       "23-Mar-2021  416.98  467.45  165.00  11575194  4,826,667,778.95         116986  "
      ]
     },
     "execution_count": 34,
     "metadata": {},
     "output_type": "execute_result"
    }
   ],
   "source": [
    "df= pd.read_csv('Quote-Equity-WIPRO-EQ-28-03-2019-to-26-03-2021.csv', index_col=0, names = ['Series', 'Open', 'High', 'Low', 'PrevClose', 'Ltp', 'Close' , 'Wap', 'Wh52', 'Wl52', 'Volume', 'Value', 'Notrades'])\n",
    "df.head()"
   ]
  },
  {
   "cell_type": "code",
   "execution_count": 35,
   "id": "a9e060bd",
   "metadata": {},
   "outputs": [],
   "source": [
    "df.drop(columns='Series',axis =1, inplace= True)"
   ]
  },
  {
   "cell_type": "code",
   "execution_count": 45,
   "id": "603fbca6",
   "metadata": {},
   "outputs": [],
   "source": [
    "df.drop(df.head(1).index, inplace=True)"
   ]
  },
  {
   "cell_type": "code",
   "execution_count": 50,
   "id": "91d4c076",
   "metadata": {},
   "outputs": [],
   "source": [
    "df.drop(columns='Value',axis =1, inplace= True)"
   ]
  },
  {
   "cell_type": "code",
   "execution_count": 51,
   "id": "3596283e",
   "metadata": {},
   "outputs": [
    {
     "data": {
      "text/html": [
       "<div>\n",
       "<style scoped>\n",
       "    .dataframe tbody tr th:only-of-type {\n",
       "        vertical-align: middle;\n",
       "    }\n",
       "\n",
       "    .dataframe tbody tr th {\n",
       "        vertical-align: top;\n",
       "    }\n",
       "\n",
       "    .dataframe thead th {\n",
       "        text-align: right;\n",
       "    }\n",
       "</style>\n",
       "<table border=\"1\" class=\"dataframe\">\n",
       "  <thead>\n",
       "    <tr style=\"text-align: right;\">\n",
       "      <th></th>\n",
       "      <th>Open</th>\n",
       "      <th>High</th>\n",
       "      <th>Low</th>\n",
       "      <th>PrevClose</th>\n",
       "      <th>Ltp</th>\n",
       "      <th>Close</th>\n",
       "      <th>Wap</th>\n",
       "      <th>Wh52</th>\n",
       "      <th>Wl52</th>\n",
       "      <th>Volume</th>\n",
       "      <th>Notrades</th>\n",
       "    </tr>\n",
       "  </thead>\n",
       "  <tbody>\n",
       "    <tr>\n",
       "      <th>26-Mar-2021</th>\n",
       "      <td>404.80</td>\n",
       "      <td>407.70</td>\n",
       "      <td>400.65</td>\n",
       "      <td>399.65</td>\n",
       "      <td>405.80</td>\n",
       "      <td>403.90</td>\n",
       "      <td>403.72</td>\n",
       "      <td>467.45</td>\n",
       "      <td>165.00</td>\n",
       "      <td>9033369</td>\n",
       "      <td>86480</td>\n",
       "    </tr>\n",
       "    <tr>\n",
       "      <th>25-Mar-2021</th>\n",
       "      <td>410.70</td>\n",
       "      <td>411.70</td>\n",
       "      <td>397.75</td>\n",
       "      <td>411.00</td>\n",
       "      <td>400.00</td>\n",
       "      <td>399.65</td>\n",
       "      <td>402.63</td>\n",
       "      <td>467.45</td>\n",
       "      <td>165.00</td>\n",
       "      <td>12737129</td>\n",
       "      <td>131050</td>\n",
       "    </tr>\n",
       "    <tr>\n",
       "      <th>24-Mar-2021</th>\n",
       "      <td>411.35</td>\n",
       "      <td>415.45</td>\n",
       "      <td>409.20</td>\n",
       "      <td>415.50</td>\n",
       "      <td>410.80</td>\n",
       "      <td>411.00</td>\n",
       "      <td>411.84</td>\n",
       "      <td>467.45</td>\n",
       "      <td>165.00</td>\n",
       "      <td>5140347</td>\n",
       "      <td>58920</td>\n",
       "    </tr>\n",
       "    <tr>\n",
       "      <th>23-Mar-2021</th>\n",
       "      <td>417.70</td>\n",
       "      <td>423.40</td>\n",
       "      <td>412.70</td>\n",
       "      <td>414.45</td>\n",
       "      <td>415.25</td>\n",
       "      <td>415.50</td>\n",
       "      <td>416.98</td>\n",
       "      <td>467.45</td>\n",
       "      <td>165.00</td>\n",
       "      <td>11575194</td>\n",
       "      <td>116986</td>\n",
       "    </tr>\n",
       "    <tr>\n",
       "      <th>22-Mar-2021</th>\n",
       "      <td>411.05</td>\n",
       "      <td>416.25</td>\n",
       "      <td>410.20</td>\n",
       "      <td>410.50</td>\n",
       "      <td>415.40</td>\n",
       "      <td>414.45</td>\n",
       "      <td>413.97</td>\n",
       "      <td>467.45</td>\n",
       "      <td>165.00</td>\n",
       "      <td>6622984</td>\n",
       "      <td>68781</td>\n",
       "    </tr>\n",
       "  </tbody>\n",
       "</table>\n",
       "</div>"
      ],
      "text/plain": [
       "               Open    High     Low PrevClose     Ltp   Close     Wap    Wh52  \\\n",
       "26-Mar-2021  404.80  407.70  400.65    399.65  405.80  403.90  403.72  467.45   \n",
       "25-Mar-2021  410.70  411.70  397.75    411.00  400.00  399.65  402.63  467.45   \n",
       "24-Mar-2021  411.35  415.45  409.20    415.50  410.80  411.00  411.84  467.45   \n",
       "23-Mar-2021  417.70  423.40  412.70    414.45  415.25  415.50  416.98  467.45   \n",
       "22-Mar-2021  411.05  416.25  410.20    410.50  415.40  414.45  413.97  467.45   \n",
       "\n",
       "               Wl52    Volume Notrades  \n",
       "26-Mar-2021  165.00   9033369    86480  \n",
       "25-Mar-2021  165.00  12737129   131050  \n",
       "24-Mar-2021  165.00   5140347    58920  \n",
       "23-Mar-2021  165.00  11575194   116986  \n",
       "22-Mar-2021  165.00   6622984    68781  "
      ]
     },
     "execution_count": 51,
     "metadata": {},
     "output_type": "execute_result"
    }
   ],
   "source": [
    "df.head()"
   ]
  },
  {
   "cell_type": "code",
   "execution_count": 47,
   "id": "2c35ac0a",
   "metadata": {},
   "outputs": [],
   "source": [
    "from sklearn.preprocessing import StandardScaler"
   ]
  },
  {
   "cell_type": "code",
   "execution_count": 48,
   "id": "52f104b6",
   "metadata": {},
   "outputs": [],
   "source": [
    "scaler = StandardScaler()"
   ]
  },
  {
   "cell_type": "code",
   "execution_count": 52,
   "id": "6e9ef23f",
   "metadata": {},
   "outputs": [
    {
     "data": {
      "text/plain": [
       "StandardScaler()"
      ]
     },
     "execution_count": 52,
     "metadata": {},
     "output_type": "execute_result"
    }
   ],
   "source": [
    "scaler.fit(df)"
   ]
  },
  {
   "cell_type": "code",
   "execution_count": 53,
   "id": "a6a80bb7",
   "metadata": {},
   "outputs": [
    {
     "data": {
      "text/plain": [
       "array([[ 1.72797777,  1.69966833,  1.74829898, ..., -0.80685656,\n",
       "        -0.03570677,  0.04801662],\n",
       "       [ 1.8121602 ,  1.7561344 ,  1.70632529, ..., -0.80685656,\n",
       "         0.28388984,  0.65805641],\n",
       "       [ 1.82143453,  1.80907133,  1.87204902, ..., -0.80685656,\n",
       "        -0.37163474, -0.32920341],\n",
       "       ...,\n",
       "       [-0.39513155, -0.33028662, -0.34604371, ...,  1.32322999,\n",
       "        -0.20542175,  0.08335704],\n",
       "       [-0.37943652, -0.39098764, -0.36920161, ...,  1.32322999,\n",
       "        -0.36293078, -0.21160274],\n",
       "       [-0.39655837, -0.41498572, -0.37282003, ...,  1.32322999,\n",
       "        -0.20211944,  0.16664383]])"
      ]
     },
     "execution_count": 53,
     "metadata": {},
     "output_type": "execute_result"
    }
   ],
   "source": [
    "scaler.transform(df)"
   ]
  },
  {
   "cell_type": "code",
   "execution_count": 55,
   "id": "245959c7",
   "metadata": {},
   "outputs": [],
   "source": [
    "df_scaled = pd.DataFrame(scaler.transform(df),columns = df.columns)"
   ]
  },
  {
   "cell_type": "code",
   "execution_count": 56,
   "id": "3c1c2caf",
   "metadata": {},
   "outputs": [
    {
     "data": {
      "text/html": [
       "<div>\n",
       "<style scoped>\n",
       "    .dataframe tbody tr th:only-of-type {\n",
       "        vertical-align: middle;\n",
       "    }\n",
       "\n",
       "    .dataframe tbody tr th {\n",
       "        vertical-align: top;\n",
       "    }\n",
       "\n",
       "    .dataframe thead th {\n",
       "        text-align: right;\n",
       "    }\n",
       "</style>\n",
       "<table border=\"1\" class=\"dataframe\">\n",
       "  <thead>\n",
       "    <tr style=\"text-align: right;\">\n",
       "      <th></th>\n",
       "      <th>Open</th>\n",
       "      <th>High</th>\n",
       "      <th>Low</th>\n",
       "      <th>PrevClose</th>\n",
       "      <th>Ltp</th>\n",
       "      <th>Close</th>\n",
       "      <th>Wap</th>\n",
       "      <th>Wh52</th>\n",
       "      <th>Wl52</th>\n",
       "      <th>Volume</th>\n",
       "      <th>Notrades</th>\n",
       "    </tr>\n",
       "  </thead>\n",
       "  <tbody>\n",
       "    <tr>\n",
       "      <th>0</th>\n",
       "      <td>1.727978</td>\n",
       "      <td>1.699668</td>\n",
       "      <td>1.748299</td>\n",
       "      <td>1.676107</td>\n",
       "      <td>1.750582</td>\n",
       "      <td>1.727919</td>\n",
       "      <td>1.718724</td>\n",
       "      <td>1.848684</td>\n",
       "      <td>-0.806857</td>\n",
       "      <td>-0.035707</td>\n",
       "      <td>0.048017</td>\n",
       "    </tr>\n",
       "    <tr>\n",
       "      <th>1</th>\n",
       "      <td>1.812160</td>\n",
       "      <td>1.756134</td>\n",
       "      <td>1.706325</td>\n",
       "      <td>1.839231</td>\n",
       "      <td>1.667570</td>\n",
       "      <td>1.667012</td>\n",
       "      <td>1.703132</td>\n",
       "      <td>1.848684</td>\n",
       "      <td>-0.806857</td>\n",
       "      <td>0.283890</td>\n",
       "      <td>0.658056</td>\n",
       "    </tr>\n",
       "    <tr>\n",
       "      <th>2</th>\n",
       "      <td>1.821435</td>\n",
       "      <td>1.809071</td>\n",
       "      <td>1.872049</td>\n",
       "      <td>1.903905</td>\n",
       "      <td>1.822144</td>\n",
       "      <td>1.829670</td>\n",
       "      <td>1.834876</td>\n",
       "      <td>1.848684</td>\n",
       "      <td>-0.806857</td>\n",
       "      <td>-0.371635</td>\n",
       "      <td>-0.329203</td>\n",
       "    </tr>\n",
       "    <tr>\n",
       "      <th>3</th>\n",
       "      <td>1.912038</td>\n",
       "      <td>1.921298</td>\n",
       "      <td>1.922707</td>\n",
       "      <td>1.888814</td>\n",
       "      <td>1.885834</td>\n",
       "      <td>1.894161</td>\n",
       "      <td>1.908401</td>\n",
       "      <td>1.848684</td>\n",
       "      <td>-0.806857</td>\n",
       "      <td>0.183627</td>\n",
       "      <td>0.465559</td>\n",
       "    </tr>\n",
       "    <tr>\n",
       "      <th>4</th>\n",
       "      <td>1.817154</td>\n",
       "      <td>1.820365</td>\n",
       "      <td>1.886523</td>\n",
       "      <td>1.832044</td>\n",
       "      <td>1.887981</td>\n",
       "      <td>1.879113</td>\n",
       "      <td>1.865344</td>\n",
       "      <td>1.848684</td>\n",
       "      <td>-0.806857</td>\n",
       "      <td>-0.243698</td>\n",
       "      <td>-0.194234</td>\n",
       "    </tr>\n",
       "  </tbody>\n",
       "</table>\n",
       "</div>"
      ],
      "text/plain": [
       "       Open      High       Low  PrevClose       Ltp     Close       Wap  \\\n",
       "0  1.727978  1.699668  1.748299   1.676107  1.750582  1.727919  1.718724   \n",
       "1  1.812160  1.756134  1.706325   1.839231  1.667570  1.667012  1.703132   \n",
       "2  1.821435  1.809071  1.872049   1.903905  1.822144  1.829670  1.834876   \n",
       "3  1.912038  1.921298  1.922707   1.888814  1.885834  1.894161  1.908401   \n",
       "4  1.817154  1.820365  1.886523   1.832044  1.887981  1.879113  1.865344   \n",
       "\n",
       "       Wh52      Wl52    Volume  Notrades  \n",
       "0  1.848684 -0.806857 -0.035707  0.048017  \n",
       "1  1.848684 -0.806857  0.283890  0.658056  \n",
       "2  1.848684 -0.806857 -0.371635 -0.329203  \n",
       "3  1.848684 -0.806857  0.183627  0.465559  \n",
       "4  1.848684 -0.806857 -0.243698 -0.194234  "
      ]
     },
     "execution_count": 56,
     "metadata": {},
     "output_type": "execute_result"
    }
   ],
   "source": [
    "df_scaled.head()"
   ]
  },
  {
   "cell_type": "code",
   "execution_count": 19,
   "id": "2a8afc48",
   "metadata": {
    "scrolled": true
   },
   "outputs": [],
   "source": [
    "from sklearn.decomposition import PCA"
   ]
  },
  {
   "cell_type": "code",
   "execution_count": 20,
   "id": "a5438e6a",
   "metadata": {},
   "outputs": [],
   "source": [
    "pca = PCA(n_components=2)"
   ]
  },
  {
   "cell_type": "code",
   "execution_count": 57,
   "id": "e254af04",
   "metadata": {},
   "outputs": [
    {
     "data": {
      "text/plain": [
       "PCA(n_components=2)"
      ]
     },
     "execution_count": 57,
     "metadata": {},
     "output_type": "execute_result"
    }
   ],
   "source": [
    "pca.fit(df_scaled)"
   ]
  },
  {
   "cell_type": "code",
   "execution_count": 58,
   "id": "99ca72a6",
   "metadata": {},
   "outputs": [],
   "source": [
    "x_pca = pca.transform(df_scaled)"
   ]
  },
  {
   "cell_type": "code",
   "execution_count": 60,
   "id": "89d13485",
   "metadata": {},
   "outputs": [
    {
     "data": {
      "text/plain": [
       "Text(0, 0.5, 'Second comp')"
      ]
     },
     "execution_count": 60,
     "metadata": {},
     "output_type": "execute_result"
    },
    {
     "data": {
      "image/png": "[encoded data removed]",
      "text/plain": [
       "<Figure size 576x432 with 1 Axes>"
      ]
     },
     "metadata": {
      "needs_background": "light"
     },
     "output_type": "display_data"
    }
   ],
   "source": [
    "plt.figure(figsize= (8,6))\n",
    "plt.scatter(x_pca[:,0],x_pca[:,1], cmap = 'plasma')\n",
    "plt.xlabel('First comp')\n",
    "plt.ylabel('Second comp')"
   ]
  },
  {
   "cell_type": "code",
   "execution_count": 61,
   "id": "3bbd0067",
   "metadata": {},
   "outputs": [],
   "source": [
    "df_comp= pd.DataFrame(pca.components_, columns = df.columns)"
   ]
  },
  {
   "cell_type": "code",
   "execution_count": 63,
   "id": "a816ac48",
   "metadata": {},
   "outputs": [
    {
     "data": {
      "text/html": [
       "<div>\n",
       "<style scoped>\n",
       "    .dataframe tbody tr th:only-of-type {\n",
       "        vertical-align: middle;\n",
       "    }\n",
       "\n",
       "    .dataframe tbody tr th {\n",
       "        vertical-align: top;\n",
       "    }\n",
       "\n",
       "    .dataframe thead th {\n",
       "        text-align: right;\n",
       "    }\n",
       "</style>\n",
       "<table border=\"1\" class=\"dataframe\">\n",
       "  <thead>\n",
       "    <tr style=\"text-align: right;\">\n",
       "      <th></th>\n",
       "      <th>Open</th>\n",
       "      <th>High</th>\n",
       "      <th>Low</th>\n",
       "      <th>PrevClose</th>\n",
       "      <th>Ltp</th>\n",
       "      <th>Close</th>\n",
       "      <th>Wap</th>\n",
       "      <th>Wh52</th>\n",
       "      <th>Wl52</th>\n",
       "      <th>Volume</th>\n",
       "      <th>Notrades</th>\n",
       "    </tr>\n",
       "  </thead>\n",
       "  <tbody>\n",
       "    <tr>\n",
       "      <th>0</th>\n",
       "      <td>0.353029</td>\n",
       "      <td>0.354216</td>\n",
       "      <td>0.352646</td>\n",
       "      <td>0.352688</td>\n",
       "      <td>0.353688</td>\n",
       "      <td>0.353727</td>\n",
       "      <td>0.353719</td>\n",
       "      <td>0.240486</td>\n",
       "      <td>-0.114792</td>\n",
       "      <td>0.146985</td>\n",
       "      <td>0.182217</td>\n",
       "    </tr>\n",
       "    <tr>\n",
       "      <th>1</th>\n",
       "      <td>-0.061438</td>\n",
       "      <td>-0.040242</td>\n",
       "      <td>-0.069106</td>\n",
       "      <td>-0.065118</td>\n",
       "      <td>-0.049807</td>\n",
       "      <td>-0.049231</td>\n",
       "      <td>-0.051701</td>\n",
       "      <td>-0.402310</td>\n",
       "      <td>-0.435919</td>\n",
       "      <td>0.580508</td>\n",
       "      <td>0.537722</td>\n",
       "    </tr>\n",
       "  </tbody>\n",
       "</table>\n",
       "</div>"
      ],
      "text/plain": [
       "       Open      High       Low  PrevClose       Ltp     Close       Wap  \\\n",
       "0  0.353029  0.354216  0.352646   0.352688  0.353688  0.353727  0.353719   \n",
       "1 -0.061438 -0.040242 -0.069106  -0.065118 -0.049807 -0.049231 -0.051701   \n",
       "\n",
       "       Wh52      Wl52    Volume  Notrades  \n",
       "0  0.240486 -0.114792  0.146985  0.182217  \n",
       "1 -0.402310 -0.435919  0.580508  0.537722  "
      ]
     },
     "execution_count": 63,
     "metadata": {},
     "output_type": "execute_result"
    }
   ],
   "source": [
    "df_comp"
   ]
  },
  {
   "cell_type": "code",
   "execution_count": 62,
   "id": "5603850b",
   "metadata": {},
   "outputs": [
    {
     "data": {
      "text/plain": [
       "<AxesSubplot:>"
      ]
     },
     "execution_count": 62,
     "metadata": {},
     "output_type": "execute_result"
    },
    {
     "data": {
      "image/png": "[encoded data removed]",
      "text/plain": [
       "<Figure size 864x432 with 2 Axes>"
      ]
     },
     "metadata": {
      "needs_background": "light"
     },
     "output_type": "display_data"
    }
   ],
   "source": [
    "plt.figure(figsize=(12,6))\n",
    "sns.heatmap(df_comp, cmap = 'plasma')"
   ]
  },
  {
   "cell_type": "code",
   "execution_count": null,
   "id": "725a4e98",
   "metadata": {},
   "outputs": [],
   "source": []
  }
 ],
 "metadata": {
  "kernelspec": {
   "display_name": "Python 3",
   "language": "python",
   "name": "python3"
  },
  "language_info": {
   "codemirror_mode": {
    "name": "ipython",
    "version": 3
   },
   "file_extension": ".py",
   "mimetype": "text/x-python",
   "name": "python",
   "nbconvert_exporter": "python",
   "pygments_lexer": "ipython3",
   "version": "3.8.5"
  }
 },
 "nbformat": 4,
 "nbformat_minor": 5
}
